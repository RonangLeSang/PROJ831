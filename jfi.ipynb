{
 "cells": [
  {
   "cell_type": "code",
   "execution_count": 22,
   "metadata": {},
   "outputs": [],
   "source": [
    "import pandas as pd"
   ]
  },
  {
   "cell_type": "code",
   "execution_count": 23,
   "metadata": {},
   "outputs": [],
   "source": [
    "def get_jfi(target_variable, csv):\n",
    "    df = pd.read_csv(f\"./data/{csv}\")\n",
    "    class_proportions = df[target_variable].value_counts(normalize=True)\n",
    "    shares = class_proportions.values\n",
    "    jfi = shares.prod() ** (1 / len(shares))\n",
    "    print(\"Jain's Fairness Index (JFI):\", jfi)"
   ]
  },
  {
   "cell_type": "code",
   "execution_count": 24,
   "metadata": {},
   "outputs": [
    {
     "name": "stdout",
     "output_type": "stream",
     "text": [
      "Jain's Fairness Index (JFI): 0.22066881769855748\n"
     ]
    }
   ],
   "source": [
    "get_jfi(\"is_recid\", \"clean_data.csv\")"
   ]
  },
  {
   "cell_type": "code",
   "execution_count": 25,
   "metadata": {},
   "outputs": [
    {
     "name": "stdout",
     "output_type": "stream",
     "text": [
      "Jain's Fairness Index (JFI): 0.48892166183463526\n"
     ]
    }
   ],
   "source": [
    "get_jfi(\"prediction\", \"prediction_with_knn.csv\")"
   ]
  },
  {
   "cell_type": "code",
   "execution_count": 26,
   "metadata": {},
   "outputs": [
    {
     "name": "stdout",
     "output_type": "stream",
     "text": [
      "Jain's Fairness Index (JFI): 0.4858548928467988\n"
     ]
    }
   ],
   "source": [
    "get_jfi(\"prediction\", \"prediction_with_neural.csv\")"
   ]
  },
  {
   "cell_type": "code",
   "execution_count": 27,
   "metadata": {},
   "outputs": [
    {
     "name": "stdout",
     "output_type": "stream",
     "text": [
      "Jain's Fairness Index (JFI): 0.47539884956512535\n"
     ]
    }
   ],
   "source": [
    "get_jfi(\"prediction\", \"prediction_with_decisional_tree.csv\")"
   ]
  },
  {
   "cell_type": "code",
   "execution_count": null,
   "metadata": {},
   "outputs": [],
   "source": []
  }
 ],
 "metadata": {
  "kernelspec": {
   "display_name": "Python 3",
   "language": "python",
   "name": "python3"
  },
  "language_info": {
   "codemirror_mode": {
    "name": "ipython",
    "version": 3
   },
   "file_extension": ".py",
   "mimetype": "text/x-python",
   "name": "python",
   "nbconvert_exporter": "python",
   "pygments_lexer": "ipython3",
   "version": "3.11.0"
  }
 },
 "nbformat": 4,
 "nbformat_minor": 2
}
