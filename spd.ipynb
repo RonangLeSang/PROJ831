{
 "cells": [
  {
   "cell_type": "markdown",
   "metadata": {},
   "source": [
    "imports"
   ]
  },
  {
   "cell_type": "code",
   "execution_count": 21,
   "metadata": {},
   "outputs": [],
   "source": [
    "import pandas as pd"
   ]
  },
  {
   "cell_type": "markdown",
   "metadata": {},
   "source": [
    "analyse"
   ]
  },
  {
   "cell_type": "code",
   "execution_count": 22,
   "metadata": {},
   "outputs": [
    {
     "name": "stdout",
     "output_type": "stream",
     "text": [
      "Spd for race : -0.08498636605430998 for is_recid \n",
      " The model is biased against the unprotected group\n",
      "Spd for sex : 0.13311963222221324 for is_recid \n",
      " The model is biased against the protected group\n",
      "Spd for race : -0.14724885249883368 for prediction \n",
      " The model is biased against the unprotected group\n",
      "Spd for sex : 0.13293358267623467 for prediction \n",
      " The model is biased against the protected group\n"
     ]
    }
   ],
   "source": [
    "def spd(model):\n",
    "    df = pd.read_csv(f\"data/prediction_with_{model}.csv\")\n",
    "    # for is_recid\n",
    "    \n",
    "    \n",
    "    #for race\n",
    "    df['protected_attr_race'] = df['race'].apply(lambda x: 0 if x == 'Caucasian' else 1)\n",
    "    #rate of is_recid  for protected group\n",
    "    protected_race_rate_is_recid = (df[df[\"protected_attr_race\"] == 1][\"is_recid\"] == 0).mean()\n",
    "    #rate of is_recid  for unprotected group\n",
    "    unprotected_race_rate_is_recid  = (df[df[\"protected_attr_race\"] == 0][\"is_recid\"] == 0).mean()\n",
    "    #spd\n",
    "    race_spd_is_recid  = protected_race_rate_is_recid  - unprotected_race_rate_is_recid \n",
    "    if race_spd_is_recid > 0:\n",
    "        analyse_race_is_recid = \"The model is biased against the protected group\"\n",
    "    elif race_spd_is_recid == 0:\n",
    "        analyse_race_is_recid = \"The model is not biased\"\n",
    "    else:\n",
    "        analyse_race_is_recid = \"The model is biased against the unprotected group\"\n",
    "    print(f\"Spd for race : {race_spd_is_recid } for is_recid \\n {analyse_race_is_recid}\")\n",
    "    \n",
    "    \n",
    "    #for sex\n",
    "    df['protected_attr_sex'] = df['sex'].apply(lambda x: 0 if x == 'Male' else 1)\n",
    "    #rate of is_recid  for protected group\n",
    "    protected_sex_rate_is_recid  = (df[df[\"protected_attr_sex\"] == 1][\"is_recid\"] == 0).mean()\n",
    "    #rate of is_recid  for unprotected group\n",
    "    unprotected_sex_rate_is_recid  = (df[df[\"protected_attr_sex\"] == 0][\"is_recid\"] == 0).mean()\n",
    "    #spd\n",
    "    sex_spd_is_recid  = protected_sex_rate_is_recid  - unprotected_sex_rate_is_recid \n",
    "    if sex_spd_is_recid > 0:\n",
    "        analyse_sex_is_recid = \"The model is biased against the protected group\"\n",
    "    elif sex_spd_is_recid == 0:\n",
    "        analyse_sex_is_recid = \"The model is not biased\"\n",
    "    else:\n",
    "        analyse_sex_is_recid = \"The model is biased against the unprotected group\"\n",
    "    print(f\"Spd for sex : {sex_spd_is_recid } for is_recid \\n {analyse_sex_is_recid}\")\n",
    "    \n",
    "    \n",
    "    \n",
    "    #for prediction\n",
    "    \n",
    "    \n",
    "    #for race\n",
    "    \n",
    "    \n",
    "    #rate of prediction  for protected group\n",
    "    protected_race_rate_prediction = (df[df[\"protected_attr_race\"] == 1][\"prediction\"]== 0).mean()\n",
    "    #rate of prediction  for unprotected group\n",
    "    unprotected_race_rate_prediction  = (df[df[\"protected_attr_race\"] ==0][\"prediction\"]==0).mean()\n",
    "    #spd\n",
    "    race_spd_prediction = protected_race_rate_prediction  - unprotected_race_rate_prediction\n",
    "    if race_spd_prediction> 0:\n",
    "        analyse_race_prediction= \"The model is biased against the protected group\"\n",
    "    elif race_spd_prediction == 0:\n",
    "        analyse_race_prediction = \"The model is not biased\"\n",
    "    else:\n",
    "        analyse_race_prediction = \"The model is biased against the unprotected group\"\n",
    "    print(f\"Spd for race : {race_spd_prediction } for prediction \\n {analyse_race_prediction}\")\n",
    "    \n",
    "    \n",
    "    #for sex\n",
    "    #rate of prediction  for protected group\n",
    "    protected_sex_rate_prediction  = (df[df[\"protected_attr_sex\"] == 1][\"prediction\"]==0).mean()\n",
    "    #rate of prediction  for unprotected group\n",
    "    unprotected_sex_rate_prediction  = (df[df[\"protected_attr_sex\"] ==0][\"prediction\"]==0).mean()\n",
    "    #spd\n",
    "    sex_spd_prediction  = protected_sex_rate_prediction  - unprotected_sex_rate_prediction\n",
    "    if sex_spd_prediction > 0:\n",
    "        analyse_sex_prediction = \"The model is biased against the protected group\"\n",
    "    elif sex_spd_prediction == 0:\n",
    "        analyse_sex_prediction= \"The model is not biased\"\n",
    "    else:\n",
    "        analyse_sex_prediction = \"The model is biased against the unprotected group\"\n",
    "    print(f\"Spd for sex : {sex_spd_prediction} for prediction \\n {analyse_sex_prediction}\")\n",
    "    \n",
    "    \n",
    "\n",
    "\n",
    "spd('decisional_tree')"
   ]
  }
 ],
 "metadata": {
  "kernelspec": {
   "display_name": "Python 3",
   "language": "python",
   "name": "python3"
  },
  "language_info": {
   "codemirror_mode": {
    "name": "ipython",
    "version": 3
   },
   "file_extension": ".py",
   "mimetype": "text/x-python",
   "name": "python",
   "nbconvert_exporter": "python",
   "pygments_lexer": "ipython3",
   "version": "3.10.9"
  }
 },
 "nbformat": 4,
 "nbformat_minor": 2
}
