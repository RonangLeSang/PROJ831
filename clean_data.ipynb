{
 "cells": [
  {
   "cell_type": "markdown",
   "metadata": {},
   "source": [
    "imports"
   ]
  },
  {
   "cell_type": "code",
   "execution_count": 11,
   "metadata": {},
   "outputs": [],
   "source": [
    "import csv\n",
    "import numpy as np\n",
    "import matplotlib.pyplot as plt\n",
    "import pandas as pd\n"
   ]
  },
  {
   "cell_type": "markdown",
   "metadata": {},
   "source": [
    "## Check data"
   ]
  },
  {
   "cell_type": "code",
   "execution_count": 32,
   "metadata": {},
   "outputs": [
    {
     "name": "stdout",
     "output_type": "stream",
     "text": [
      "(18316, 40)\n"
     ]
    },
    {
     "data": {
      "text/plain": [
       "(15513, 36)"
      ]
     },
     "execution_count": 32,
     "metadata": {},
     "output_type": "execute_result"
    }
   ],
   "source": [
    "data = pd.read_csv('./data/cox-violent-parsed_filt.csv')\n",
    "print(data.shape)\n",
    "\n",
    "#remove this column because 100% NaN\n",
    "data = data.drop(\"violent_recid\", axis=1)\n",
    "#remove name column (because their is last and first)\n",
    "data = data.drop(\"name\",axis=1)\n",
    "#remove all duplicate rows\n",
    "data = data.drop_duplicates()\n",
    "#remove type_of_assessment (because only one unique value) same for v_type_of_assessment\n",
    "data = data.drop(\"type_of_assessment\", axis=1)\n",
    "data = data.drop(\"v_type_of_assessment\", axis=1)\n",
    "data.to_csv(\"./data/clean_data.csv\", index=False)\n",
    "data.shape\n"
   ]
  }
 ],
 "metadata": {
  "kernelspec": {
   "display_name": "Python 3",
   "language": "python",
   "name": "python3"
  },
  "language_info": {
   "codemirror_mode": {
    "name": "ipython",
    "version": 3
   },
   "file_extension": ".py",
   "mimetype": "text/x-python",
   "name": "python",
   "nbconvert_exporter": "python",
   "pygments_lexer": "ipython3",
   "version": "3.10.9"
  }
 },
 "nbformat": 4,
 "nbformat_minor": 2
}
