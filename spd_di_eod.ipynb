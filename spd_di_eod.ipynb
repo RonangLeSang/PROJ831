{
 "cells": [
  {
   "cell_type": "markdown",
   "metadata": {},
   "source": [
    "imports"
   ]
  },
  {
   "cell_type": "code",
   "execution_count": 17,
   "metadata": {},
   "outputs": [],
   "source": [
    "import pandas as pd\n",
    "import matplotlib.pyplot as plt"
   ]
  },
  {
   "cell_type": "markdown",
   "metadata": {},
   "source": [
    "# spd (Statistical Parity Difference)"
   ]
  },
  {
   "cell_type": "markdown",
   "metadata": {},
   "source": [
    "analyse"
   ]
  },
  {
   "cell_type": "code",
   "execution_count": 18,
   "metadata": {},
   "outputs": [],
   "source": [
    "def spd(model):\n",
    "    df = pd.read_csv(f\"data/prediction_with_{model}.csv\")\n",
    "    # for is_recid\n",
    "    \n",
    "    \n",
    "    #for race\n",
    "    df['protected_attr_race'] = df['race'].apply(lambda x: 0 if x == 'Caucasian' else 1)\n",
    "    #rate of is_recid  for protected group\n",
    "    protected_race_rate_is_recid = (df[df[\"protected_attr_race\"] == 1][\"is_recid\"] == 0).mean()\n",
    "    #rate of is_recid  for unprotected group\n",
    "    unprotected_race_rate_is_recid  = (df[df[\"protected_attr_race\"] == 0][\"is_recid\"] == 0).mean()\n",
    "    #spd\n",
    "    race_spd_is_recid  = protected_race_rate_is_recid  - unprotected_race_rate_is_recid \n",
    "    if race_spd_is_recid > 0:\n",
    "        analyse_race_is_recid = \"The model is biased against the protected group\"\n",
    "    elif race_spd_is_recid == 0:\n",
    "        analyse_race_is_recid = \"The model is not biased\"\n",
    "    else:\n",
    "        analyse_race_is_recid = \"The model is biased against the unprotected group\"\n",
    "    print(f\"Spd for race : {race_spd_is_recid } for is_recid \\n {analyse_race_is_recid}\")\n",
    "    \n",
    "    \n",
    "    #for sex\n",
    "    df['protected_attr_sex'] = df['sex'].apply(lambda x: 0 if x == 'Male' else 1)\n",
    "    #rate of is_recid  for protected group\n",
    "    protected_sex_rate_is_recid  = (df[df[\"protected_attr_sex\"] == 1][\"is_recid\"] == 0).mean()\n",
    "    #rate of is_recid  for unprotected group\n",
    "    unprotected_sex_rate_is_recid  = (df[df[\"protected_attr_sex\"] == 0][\"is_recid\"] == 0).mean()\n",
    "    #spd\n",
    "    sex_spd_is_recid  = protected_sex_rate_is_recid  - unprotected_sex_rate_is_recid \n",
    "    if sex_spd_is_recid > 0:\n",
    "        analyse_sex_is_recid = \"The model is biased against the protected group\"\n",
    "    elif sex_spd_is_recid == 0:\n",
    "        analyse_sex_is_recid = \"The model is not biased\"\n",
    "    else:\n",
    "        analyse_sex_is_recid = \"The model is biased against the unprotected group\"\n",
    "    print(f\"Spd for sex : {sex_spd_is_recid } for is_recid \\n {analyse_sex_is_recid}\")\n",
    "    \n",
    "    \n",
    "    \n",
    "    #for prediction\n",
    "    \n",
    "    \n",
    "    #for race\n",
    "    \n",
    "    \n",
    "    #rate of prediction  for protected group\n",
    "    protected_race_rate_prediction = (df[df[\"protected_attr_race\"] == 1][\"prediction\"]== 0).mean()\n",
    "    #rate of prediction  for unprotected group\n",
    "    unprotected_race_rate_prediction  = (df[df[\"protected_attr_race\"] ==0][\"prediction\"]==0).mean()\n",
    "    #spd\n",
    "    race_spd_prediction = protected_race_rate_prediction  - unprotected_race_rate_prediction\n",
    "    if race_spd_prediction> 0:\n",
    "        analyse_race_prediction= \"The model is biased against the protected group\"\n",
    "    elif race_spd_prediction == 0:\n",
    "        analyse_race_prediction = \"The model is not biased\"\n",
    "    else:\n",
    "        analyse_race_prediction = \"The model is biased against the unprotected group\"\n",
    "    print(f\"Spd for race : {race_spd_prediction } for prediction \\n {analyse_race_prediction}\")\n",
    "    \n",
    "    \n",
    "    #for sex\n",
    "    #rate of prediction  for protected group\n",
    "    protected_sex_rate_prediction  = (df[df[\"protected_attr_sex\"] == 1][\"prediction\"]==0).mean()\n",
    "    #rate of prediction  for unprotected group\n",
    "    unprotected_sex_rate_prediction  = (df[df[\"protected_attr_sex\"] ==0][\"prediction\"]==0).mean()\n",
    "    #spd\n",
    "    sex_spd_prediction  = protected_sex_rate_prediction  - unprotected_sex_rate_prediction\n",
    "    if sex_spd_prediction > 0:\n",
    "        analyse_sex_prediction = \"The model is biased against the protected group\"\n",
    "    elif sex_spd_prediction == 0:\n",
    "        analyse_sex_prediction= \"The model is not biased\"\n",
    "    else:\n",
    "        analyse_sex_prediction = \"The model is biased against the unprotected group\"\n",
    "    print(f\"Spd for sex : {sex_spd_prediction} for prediction \\n {analyse_sex_prediction}\")\n",
    "    \n",
    "    \n",
    "    answer = {'race_spd_is_recid': race_spd_is_recid,\n",
    "              'sex_spd_is_recid':sex_spd_is_recid,\n",
    "              'race_spd_prediction':race_spd_prediction,\n",
    "              'sex_spd_prediction':sex_spd_prediction}\n",
    "    return answer\n"
   ]
  },
  {
   "cell_type": "markdown",
   "metadata": {},
   "source": [
    "plot spd"
   ]
  },
  {
   "cell_type": "code",
   "execution_count": 19,
   "metadata": {},
   "outputs": [
    {
     "name": "stdout",
     "output_type": "stream",
     "text": [
      "Spd for race : -0.08498636605430998 for is_recid \n",
      " The model is biased against the unprotected group\n",
      "Spd for sex : 0.13311963222221324 for is_recid \n",
      " The model is biased against the protected group\n",
      "Spd for race : -0.14724885249883368 for prediction \n",
      " The model is biased against the unprotected group\n",
      "Spd for sex : 0.13293358267623467 for prediction \n",
      " The model is biased against the protected group\n",
      "Spd for race : -0.09064098455457725 for is_recid \n",
      " The model is biased against the unprotected group\n",
      "Spd for sex : 0.1384135859514669 for is_recid \n",
      " The model is biased against the protected group\n",
      "Spd for race : -0.20520390980822434 for prediction \n",
      " The model is biased against the unprotected group\n",
      "Spd for sex : 0.1929093719453968 for prediction \n",
      " The model is biased against the protected group\n",
      "Spd for race : -0.09064098455457725 for is_recid \n",
      " The model is biased against the unprotected group\n",
      "Spd for sex : 0.1384135859514669 for is_recid \n",
      " The model is biased against the protected group\n",
      "Spd for race : -0.3615964131287456 for prediction \n",
      " The model is biased against the unprotected group\n",
      "Spd for sex : 0.2601058963263221 for prediction \n",
      " The model is biased against the protected group\n"
     ]
    },
    {
     "data": {
      "image/png": "[encoded data removed]",
      "text/plain": [
       "<Figure size 640x480 with 1 Axes>"
      ]
     },
     "metadata": {},
     "output_type": "display_data"
    }
   ],
   "source": [
    "def plot_spd():\n",
    "    methods = [\"decisional_tree\",\"knn\",\"neural\"]\n",
    "    infos = {}\n",
    "    for method in methods:\n",
    "        infos[method] = spd(method)\n",
    "    df = pd.DataFrame(infos)\n",
    "    df.plot(kind='bar')\n",
    "    plt.title(\"SPD for is_recid and prediction\")\n",
    "    plt.show()\n",
    "   \n",
    "plot_spd() "
   ]
  },
  {
   "cell_type": "markdown",
   "metadata": {},
   "source": [
    "# di (Disparate impact)"
   ]
  },
  {
   "cell_type": "markdown",
   "metadata": {},
   "source": [
    "analyse"
   ]
  },
  {
   "cell_type": "code",
   "execution_count": 20,
   "metadata": {},
   "outputs": [],
   "source": [
    "def di(model):\n",
    "    df = pd.read_csv(f\"data/prediction_with_{model}.csv\")\n",
    "    \n",
    "    # for is_recid\n",
    "    \n",
    "    \n",
    "    #for race\n",
    "    df['protected_attr_race'] = df['race'].apply(lambda x: 0 if x == 'Caucasian' else 1)\n",
    "    #rate of is_recid  for protected group\n",
    "    protected_race_rate_is_recid = (df[df[\"protected_attr_race\"] == 1][\"is_recid\"] == 0).mean()\n",
    "    #rate of is_recid  for unprotected group\n",
    "    unprotected_race_rate_is_recid  = (df[df[\"protected_attr_race\"] == 0][\"is_recid\"] == 0).mean()\n",
    "    #di\n",
    "    race_di_is_recid  = protected_race_rate_is_recid / unprotected_race_rate_is_recid \n",
    "    if race_di_is_recid > 1:\n",
    "        analyse_race_is_recid = \"The model is biased against the protected group\"\n",
    "    elif race_di_is_recid == 1:\n",
    "        analyse_race_is_recid = \"The model is not biased\"\n",
    "    else:\n",
    "        analyse_race_is_recid = \"The model is biased against the unprotected group\"\n",
    "    print(f\"Di for race : {race_di_is_recid } for is_recid \\n {analyse_race_is_recid}\")\n",
    "    \n",
    "    \n",
    "    #for sex\n",
    "    df['protected_attr_sex'] = df['sex'].apply(lambda x: 0 if x == 'Male' else 1)\n",
    "    #rate of is_recid  for protected group\n",
    "    protected_sex_rate_is_recid  = (df[df[\"protected_attr_sex\"] == 1][\"is_recid\"] == 0).mean()\n",
    "    #rate of is_recid  for unprotected group\n",
    "    unprotected_sex_rate_is_recid  = (df[df[\"protected_attr_sex\"] == 0][\"is_recid\"] == 0).mean()\n",
    "    #di\n",
    "    sex_di_is_recid  = protected_sex_rate_is_recid  / unprotected_sex_rate_is_recid \n",
    "    if sex_di_is_recid > 1:\n",
    "        analyse_sex_is_recid = \"The model is biased against the protected group\"\n",
    "    elif sex_di_is_recid == 1:\n",
    "        analyse_sex_is_recid = \"The model is not biased\"\n",
    "    else:\n",
    "        analyse_sex_is_recid = \"The model is biased against the unprotected group\"\n",
    "    print(f\"di for sex : {sex_di_is_recid } for is_recid \\n {analyse_sex_is_recid}\")\n",
    "    \n",
    "    \n",
    "    \n",
    "    #for prediction\n",
    "    \n",
    "    \n",
    "    #for race\n",
    "    \n",
    "    \n",
    "    #rate of prediction  for protected group\n",
    "    protected_race_rate_prediction = (df[df[\"protected_attr_race\"] == 1][\"prediction\"]== 0).mean()\n",
    "    #rate of prediction  for unprotected group\n",
    "    unprotected_race_rate_prediction  = (df[df[\"protected_attr_race\"] ==0][\"prediction\"]==0).mean()\n",
    "    #di\n",
    "    race_di_prediction = protected_race_rate_prediction  / unprotected_race_rate_prediction\n",
    "    if race_di_prediction> 1:\n",
    "        analyse_race_prediction= \"The model is biased against the protected group\"\n",
    "    elif race_di_prediction == 1:\n",
    "        analyse_race_prediction = \"The model is not biased\"\n",
    "    else:\n",
    "        analyse_race_prediction = \"The model is biased against the unprotected group\"\n",
    "    print(f\"Di for race : {race_di_prediction } for prediction \\n {analyse_race_prediction}\")\n",
    "    \n",
    "    \n",
    "    #for sex\n",
    "    #rate of prediction  for protected group\n",
    "    protected_sex_rate_prediction  = (df[df[\"protected_attr_sex\"] == 1][\"prediction\"]==0).mean()\n",
    "    #rate of prediction  for unprotected group\n",
    "    unprotected_sex_rate_prediction  = (df[df[\"protected_attr_sex\"] ==0][\"prediction\"]==0).mean()\n",
    "    #di\n",
    "    sex_di_prediction  = protected_sex_rate_prediction  / unprotected_sex_rate_prediction\n",
    "    if sex_di_prediction > 1:\n",
    "        analyse_sex_prediction = \"The model is biased against the protected group\"\n",
    "    elif sex_di_prediction == 1:\n",
    "        analyse_sex_prediction= \"The model is not biased\"\n",
    "    else:\n",
    "        analyse_sex_prediction = \"The model is biased against the unprotected group\"\n",
    "    print(f\"Di for sex : {sex_di_prediction} for prediction \\n {analyse_sex_prediction}\")\n",
    "    \n",
    "    \n",
    "    answer = {'race_di_is_recid': race_di_is_recid,\n",
    "              'sex_di_is_recid':sex_di_is_recid,\n",
    "              'race_di_prediction':race_di_prediction,\n",
    "              'sex_di_prediction':sex_di_prediction}\n",
    "    return answer\n",
    "    \n",
    "\n",
    "    "
   ]
  },
  {
   "cell_type": "markdown",
   "metadata": {},
   "source": [
    "plot_di"
   ]
  },
  {
   "cell_type": "code",
   "execution_count": 21,
   "metadata": {},
   "outputs": [
    {
     "name": "stdout",
     "output_type": "stream",
     "text": [
      "Di for race : 0.8617510587564466 for is_recid \n",
      " The model is biased against the unprotected group\n",
      "di for sex : 1.249667058428664 for is_recid \n",
      " The model is biased against the protected group\n",
      "Di for race : 0.8043508159362915 for prediction \n",
      " The model is biased against the unprotected group\n",
      "Di for sex : 1.2110759007971978 for prediction \n",
      " The model is biased against the protected group\n",
      "Di for race : 0.851291177132061 for is_recid \n",
      " The model is biased against the unprotected group\n",
      "di for sex : 1.264320605076368 for is_recid \n",
      " The model is biased against the protected group\n",
      "Di for race : 0.7342261611157426 for prediction \n",
      " The model is biased against the unprotected group\n",
      "Di for sex : 1.3213497477061182 for prediction \n",
      " The model is biased against the protected group\n",
      "Di for race : 0.851291177132061 for is_recid \n",
      " The model is biased against the unprotected group\n",
      "di for sex : 1.264320605076368 for is_recid \n",
      " The model is biased against the protected group\n",
      "Di for race : 0.5780650654210622 for prediction \n",
      " The model is biased against the unprotected group\n",
      "Di for sex : 1.4569247300736237 for prediction \n",
      " The model is biased against the protected group\n"
     ]
    },
    {
     "data": {
      "image/png": "[encoded data removed]",
      "text/plain": [
       "<Figure size 640x480 with 1 Axes>"
      ]
     },
     "metadata": {},
     "output_type": "display_data"
    }
   ],
   "source": [
    "def plot_di():\n",
    "    methods = [\"decisional_tree\",\"knn\",\"neural\"]\n",
    "    infos = {}\n",
    "    for method in methods:\n",
    "        infos[method] = di(method)\n",
    "    df = pd.DataFrame(infos)\n",
    "    df.plot(kind='bar')\n",
    "    plt.title(\"DI for is_recid and prediction\")\n",
    "    plt.show()\n",
    "    \n",
    "plot_di()"
   ]
  },
  {
   "cell_type": "markdown",
   "metadata": {},
   "source": [
    "# EOD (Equal Opportunity Difference)"
   ]
  },
  {
   "cell_type": "markdown",
   "metadata": {},
   "source": [
    "analyse"
   ]
  },
  {
   "cell_type": "code",
   "execution_count": 24,
   "metadata": {},
   "outputs": [
    {
     "name": "stdout",
     "output_type": "stream",
     "text": [
      "0.7786553650549027 0.8601833660772757\n"
     ]
    },
    {
     "data": {
      "text/plain": [
       "{'eod_race': -0.08152800102237301, 'eod_sex': 0.06552113477117694}"
      ]
     },
     "execution_count": 24,
     "metadata": {},
     "output_type": "execute_result"
    }
   ],
   "source": [
    "def eod(model):\n",
    "    df = pd.read_csv(f\"data/prediction_with_{model}.csv\")\n",
    "    # we compare the predictions with the is_recid column\n",
    "    \n",
    "    df['protected_attr_sex'] = df['sex'].apply(lambda x: 0 if x == 'Male' else 1)\n",
    "    df['protected_attr_race'] = df['race'].apply(lambda x: 0 if x == 'Caucasian' else 1)\n",
    "    \n",
    "    #true positive  for protected group (race)\n",
    "    protected_race_tp= df[(df[\"protected_attr_race\"]== 1 ) & (df[\"prediction\"]== 0) & (df[\"is_recid\"]== 0)].shape[0]\n",
    "    #total positive for protected group (race)\n",
    "    protected_race_p = df[(df[\"protected_attr_race\"]== 1 ) & (df[\"is_recid\"]== 0)].shape[0]\n",
    "    #true positive rate for protected group (race)\n",
    "    protected_race_tpr = protected_race_tp/protected_race_p\n",
    "    \n",
    "    #same for unprotected group (race)\n",
    "    unprotected_race_tp= df[(df[\"protected_attr_race\"]== 0 ) & (df[\"prediction\"]== 0) & (df[\"is_recid\"]== 0)].shape[0]\n",
    "    unprotected_race_p = df[(df[\"protected_attr_race\"]== 0 ) & (df[\"is_recid\"]== 0)].shape[0]\n",
    "    unprotected_race_tpr = unprotected_race_tp/unprotected_race_p\n",
    "    \n",
    "    print(protected_race_tpr,unprotected_race_tpr)\n",
    "    eod_race = protected_race_tpr - unprotected_race_tpr\n",
    "    \n",
    "    \n",
    "    # same for sex\n",
    "    \n",
    "    #true positive  for protected group (sex)\n",
    "    protected_sex_tp= df[(df[\"protected_attr_sex\"]== 1 ) & (df[\"prediction\"]== 0) & (df[\"is_recid\"]== 0)].shape[0]\n",
    "    #total positive for protected group (sex)\n",
    "    protected_sex_p = df[(df[\"protected_attr_sex\"]== 1 ) & (df[\"is_recid\"]== 0)].shape[0]\n",
    "    #true positive rate for protected group (sex)\n",
    "    protected_sex_tpr = protected_sex_tp/protected_sex_p\n",
    "    \n",
    "    #same for unprotected group (sex)\n",
    "    unprotected_sex_tp= df[(df[\"protected_attr_sex\"]== 0 ) & (df[\"prediction\"]== 0) & (df[\"is_recid\"]== 0)].shape[0]\n",
    "    unprotected_sex_p = df[(df[\"protected_attr_sex\"]== 0 ) & (df[\"is_recid\"]== 0)].shape[0]\n",
    "    unprotected_sex_tpr = unprotected_sex_tp/unprotected_sex_p\n",
    "    \n",
    "    eod_sex = protected_sex_tpr - unprotected_sex_tpr\n",
    "    \n",
    "    \n",
    "    answer  = {\"eod_race\": eod_race, \n",
    "               \"eod_sex\": eod_sex}\n",
    "    \n",
    "    return answer\n",
    "    \n",
    "    \n",
    "    \n",
    "eod(\"decisional_tree\")"
   ]
  },
  {
   "cell_type": "markdown",
   "metadata": {},
   "source": [
    "plot eod"
   ]
  },
  {
   "cell_type": "code",
   "execution_count": 25,
   "metadata": {},
   "outputs": [
    {
     "name": "stdout",
     "output_type": "stream",
     "text": [
      "0.7786553650549027 0.8601833660772757\n",
      "0.7633509987770077 0.8918187964841109\n",
      "0.6398287810843865 0.918526031102096\n"
     ]
    },
    {
     "data": {
      "image/png": "[encoded data removed]",
      "text/plain": [
       "<Figure size 640x480 with 1 Axes>"
      ]
     },
     "metadata": {},
     "output_type": "display_data"
    }
   ],
   "source": [
    "def plot_eod():\n",
    "    methods = [\"decisional_tree\",\"knn\",\"neural\"]\n",
    "    infos = {}\n",
    "    for method in methods:\n",
    "        infos[method] = eod(method)\n",
    "    df = pd.DataFrame(infos)\n",
    "    df.plot(kind='bar')\n",
    "    plt.title(\"EOD\")\n",
    "    plt.show()\n",
    "    \n",
    "plot_eod()"
   ]
  }
 ],
 "metadata": {
  "kernelspec": {
   "display_name": "Python 3",
   "language": "python",
   "name": "python3"
  },
  "language_info": {
   "codemirror_mode": {
    "name": "ipython",
    "version": 3
   },
   "file_extension": ".py",
   "mimetype": "text/x-python",
   "name": "python",
   "nbconvert_exporter": "python",
   "pygments_lexer": "ipython3",
   "version": "3.10.9"
  }
 },
 "nbformat": 4,
 "nbformat_minor": 2
}
